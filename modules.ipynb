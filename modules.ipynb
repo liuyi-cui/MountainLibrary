{
 "cells": [
  {
   "cell_type": "code",
   "execution_count": null,
   "metadata": {},
   "outputs": [],
   "source": [
    "# 整理python使用过程中遇见的库\n",
    "import pandas as pd  # 数据分析，统计\n",
    "import numpy as np  # 数据统计\n",
    "import random  \n",
    "\n",
    "import time  # 时间\n",
    "import datetime  # 时间\n",
    "\n",
    "import os  \n",
    "import sys  \n",
    "\n",
    "import json\n",
    "import pickle  # 序列化模块\n",
    "\n",
    "import alsqlchemy  # 数据库连接\n",
    "import smtplib  # 邮件发送\n",
    "\n",
    "import typing  # 类型注解"
   ]
  }
 ],
 "metadata": {
  "kernelspec": {
   "display_name": "Python 3",
   "language": "python",
   "name": "python3"
  },
  "language_info": {
   "codemirror_mode": {
    "name": "ipython",
    "version": 3
   },
   "file_extension": ".py",
   "mimetype": "text/x-python",
   "name": "python",
   "nbconvert_exporter": "python",
   "pygments_lexer": "ipython3",
   "version": "3.7.0"
  }
 },
 "nbformat": 4,
 "nbformat_minor": 2
}
