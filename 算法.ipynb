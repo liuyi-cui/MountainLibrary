{
 "cells": [
  {
   "cell_type": "code",
   "execution_count": 9,
   "metadata": {},
   "outputs": [
    {
     "name": "stdout",
     "output_type": "stream",
     "text": [
      "Enter an integer:99\n"
     ]
    }
   ],
   "source": [
    "num = int(input('Enter an integer:'))\n",
    "def find_num(root, pwr):\n",
    "    while root ** pwr < num:\n",
    "        if pwr < 6:\n",
    "            pwr += 1\n",
    "        else:\n",
    "            pwr = 1\n",
    "            root += 1\n",
    "    if root ** pwr != num:\n",
    "        return find_num(root+1, 1)\n",
    "    else:\n",
    "        print(root, pwr, root**pwr)"
   ]
  },
  {
   "cell_type": "code",
   "execution_count": 2,
   "metadata": {},
   "outputs": [
    {
     "name": "stdout",
     "output_type": "stream",
     "text": [
      "low: 0 high: 61728.0 ans: 30864.0\n",
      "low: 0 high: 30864.0 ans: 15432.0\n",
      "low: 0 high: 15432.0 ans: 7716.0\n",
      "low: 0 high: 7716.0 ans: 3858.0\n",
      "low: 0 high: 3858.0 ans: 1929.0\n",
      "low: 0 high: 1929.0 ans: 964.5\n",
      "low: 0 high: 964.5 ans: 482.25\n",
      "low: 0 high: 482.25 ans: 241.125\n",
      "low: 241.125 high: 482.25 ans: 361.6875\n",
      "low: 241.125 high: 361.6875 ans: 301.40625\n",
      "low: 301.40625 high: 361.6875 ans: 331.546875\n",
      "low: 331.546875 high: 361.6875 ans: 346.6171875\n",
      "low: 346.6171875 high: 361.6875 ans: 354.15234375\n",
      "low: 346.6171875 high: 354.15234375 ans: 350.384765625\n",
      "low: 350.384765625 high: 354.15234375 ans: 352.2685546875\n",
      "low: 350.384765625 high: 352.2685546875 ans: 351.32666015625\n",
      "low: 351.32666015625 high: 352.2685546875 ans: 351.797607421875\n",
      "low: 351.32666015625 high: 351.797607421875 ans: 351.5621337890625\n",
      "low: 351.32666015625 high: 351.5621337890625 ans: 351.44439697265625\n",
      "low: 351.32666015625 high: 351.44439697265625 ans: 351.3855285644531\n",
      "low: 351.32666015625 high: 351.3855285644531 ans: 351.35609436035156\n",
      "low: 351.35609436035156 high: 351.3855285644531 ans: 351.37081146240234\n",
      "low: 351.35609436035156 high: 351.37081146240234 ans: 351.36345291137695\n",
      "low: 351.35609436035156 high: 351.36345291137695 ans: 351.35977363586426\n",
      "low: 351.35977363586426 high: 351.36345291137695 ans: 351.3616132736206\n",
      "low: 351.3616132736206 high: 351.36345291137695 ans: 351.3625330924988\n",
      "low: 351.3625330924988 high: 351.36345291137695 ans: 351.36299300193787\n",
      "low: 351.36299300193787 high: 351.36345291137695 ans: 351.3632229566574\n",
      "low: 351.36299300193787 high: 351.3632229566574 ans: 351.36310797929764\n",
      "low: 351.36299300193787 high: 351.36310797929764 ans: 351.36305049061775\n",
      "guessnum: 30\n",
      "351.36305049061775 is close to square root of  123456\n"
     ]
    }
   ],
   "source": [
    "# 二分法\n",
    "x = 123456\n",
    "epsilon = 0.01  # 是否找到的标准\n",
    "low = 0\n",
    "high = max(1, x)\n",
    "ans = (low + high)/2\n",
    "guessnum = 0\n",
    "while abs(ans ** 2 - x) > epsilon:\n",
    "    guessnum += 1\n",
    "    if ans ** 2 > x:\n",
    "        high = ans\n",
    "    else:\n",
    "        low = ans\n",
    "    ans = (low + high)/2\n",
    "    print('low:', low, 'high:', high, 'ans:', ans)\n",
    "print('guessnum:', guessnum)\n",
    "print(ans, 'is close to square root of ', x)"
   ]
  },
  {
   "cell_type": "code",
   "execution_count": 5,
   "metadata": {},
   "outputs": [
    {
     "data": {
      "text/plain": [
       "True"
      ]
     },
     "execution_count": 5,
     "metadata": {},
     "output_type": "execute_result"
    }
   ],
   "source": [
    "1.0 == 10 * 0.1"
   ]
  },
  {
   "cell_type": "code",
   "execution_count": 3,
   "metadata": {},
   "outputs": [
    {
     "name": "stdout",
     "output_type": "stream",
     "text": [
      "0\n",
      "1\n",
      "2\n",
      "3\n"
     ]
    }
   ],
   "source": [
    "x = 4\n",
    "for i in range(x):\n",
    "    print(i)\n",
    "    x = 6"
   ]
  },
  {
   "cell_type": "code",
   "execution_count": 14,
   "metadata": {},
   "outputs": [
    {
     "name": "stdout",
     "output_type": "stream",
     "text": [
      "0\n",
      "1\n",
      "2\n",
      "3\n",
      "0\n",
      "1\n",
      "0\n",
      "1\n",
      "0\n",
      "1\n"
     ]
    }
   ],
   "source": [
    "x = 4\n",
    "for i in range(x):\n",
    "\tfor j in range(x):\n",
    "\t\tprint(j)\n",
    "\t\tx = 2"
   ]
  },
  {
   "cell_type": "code",
   "execution_count": 15,
   "metadata": {},
   "outputs": [
    {
     "data": {
      "text/plain": [
       "2"
      ]
     },
     "execution_count": 15,
     "metadata": {},
     "output_type": "execute_result"
    }
   ],
   "source": [
    "x"
   ]
  },
  {
   "cell_type": "code",
   "execution_count": null,
   "metadata": {},
   "outputs": [],
   "source": []
  }
 ],
 "metadata": {
  "kernelspec": {
   "display_name": "Python 3",
   "language": "python",
   "name": "python3"
  },
  "language_info": {
   "codemirror_mode": {
    "name": "ipython",
    "version": 3
   },
   "file_extension": ".py",
   "mimetype": "text/x-python",
   "name": "python",
   "nbconvert_exporter": "python",
   "pygments_lexer": "ipython3",
   "version": "3.7.0"
  }
 },
 "nbformat": 4,
 "nbformat_minor": 2
}
