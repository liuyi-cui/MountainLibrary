{
 "cells": [
  {
   "cell_type": "code",
   "execution_count": 1,
   "metadata": {},
   "outputs": [],
   "source": [
    "# hello.py  web应用程序的wsgi处理函数 [接收请求，返回响应]\n",
    "def application(environ, start_response):\n",
    "    start_response('200 OK', [('Content_Type', 'text/html')])\n",
    "    return [b'<h1> hello world <h1/>']\n",
    "\n",
    "# 该application()函数就是符合WSGI标准的一个HTTP处理函数，它接收两个参数：\n",
    "    # environ: 一个包含所有http 请求信息的 dict\n",
    "    # start_response: 一个发送http 响应的函数\n",
    "    "
   ]
  },
  {
   "cell_type": "code",
   "execution_count": null,
   "metadata": {},
   "outputs": [
    {
     "name": "stdout",
     "output_type": "stream",
     "text": [
      "Server http on port 8080\n"
     ]
    }
   ],
   "source": [
    "# 再编写一个server.py, 负责启动WSGI服务器， 加载application 函数\n",
    "# 从wsgiref模块导入相关方法\n",
    "from wsgiref.simple_server import make_server\n",
    "# 导入我们自己编写的application 函数\n",
    "# from hello import application\n",
    "\n",
    "# 创建一个服务器， ip地址为空，端口8080， 方法为application\n",
    "httpd = make_server('', 8080, application)\n",
    "print('Server http on port 8080')\n",
    "# 监听http请求\n",
    "httpd.serve_forever()"
   ]
  },
  {
   "cell_type": "markdown",
   "metadata": {},
   "source": [
    "### 由此了解到，其实一个web app, 就是写一个WSGI处理函数(application)，针对不同的HTTP请求做出不同的响应"
   ]
  },
  {
   "cell_type": "code",
   "execution_count": 1,
   "metadata": {},
   "outputs": [],
   "source": [
    "# 通过获取environ 中携带的内容区分http请求[environ就是请求头信息，差别主要在于请求方法和请求路径]\n",
    "def application(environ, start_response):\n",
    "    method = environ['REQUEST_METHOD']\n",
    "    path = environ['PATH_INFO']\n",
    "    # 针对不同方法和路径做出不同响应\n",
    "    if method == 'GET' and path == '/':\n",
    "        return handle_home(environ, start_response)  # 从高级处理函数， 细分到低级处理函数\n",
    "    elif method == 'POST' and path == 'signin':\n",
    "        return handle_signin(environ, start_response)\n",
    "    pass"
   ]
  },
  {
   "cell_type": "code",
   "execution_count": null,
   "metadata": {},
   "outputs": [],
   "source": [
    "# 以上，虽然已经可以对不同http请求给出不同的响应内容，但维护起来十分麻烦，我们需要在WSGI接口之上能进一步抽象，让我们专注于用一个函数处理一个URL， 至于URL和函数之间的映射关系，可以交由框架来做"
   ]
  }
 ],
 "metadata": {
  "kernelspec": {
   "display_name": "Python 3",
   "language": "python",
   "name": "python3"
  },
  "language_info": {
   "codemirror_mode": {
    "name": "ipython",
    "version": 3
   },
   "file_extension": ".py",
   "mimetype": "text/x-python",
   "name": "python",
   "nbconvert_exporter": "python",
   "pygments_lexer": "ipython3",
   "version": "3.7.0"
  }
 },
 "nbformat": 4,
 "nbformat_minor": 2
}
